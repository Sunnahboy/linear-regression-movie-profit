{
 "cells": [
  {
   "cell_type": "code",
   "execution_count": 1,
   "id": "ffdcf4f1-be1d-4d48-ade3-c173b2bfbbcd",
   "metadata": {},
   "outputs": [],
   "source": [
    "import pandas as pd\n",
    "data = pd.read_csv('lsd_math_score_data.csv')"
   ]
  },
  {
   "cell_type": "code",
   "execution_count": 2,
   "id": "4a8698e2-1e95-438e-ae6c-48c351728149",
   "metadata": {},
   "outputs": [
    {
     "name": "stdout",
     "output_type": "stream",
     "text": [
      "   Time_Delay_in_Minutes  LSD_ppm  Avg_Math_Test_Score\n",
      "0                      5     1.17                78.93\n",
      "1                     15     2.97                58.20\n",
      "2                     30     3.26                67.47\n",
      "3                     60     4.69                37.47\n",
      "4                    120     5.83                45.65\n",
      "5                    240     6.00                32.92\n",
      "6                    480     6.41                29.97\n"
     ]
    }
   ],
   "source": [
    "print(data)"
   ]
  },
  {
   "cell_type": "code",
   "execution_count": 3,
   "id": "1d2f7a53-4602-4169-ace7-0b6ecbb1f818",
   "metadata": {},
   "outputs": [
    {
     "data": {
      "text/plain": [
       "pandas.core.frame.DataFrame"
      ]
     },
     "execution_count": 3,
     "metadata": {},
     "output_type": "execute_result"
    }
   ],
   "source": [
    "type(data)"
   ]
  },
  {
   "cell_type": "code",
   "execution_count": 4,
   "id": "a0e89ad6-484d-4f1b-8988-f88fae3f3063",
   "metadata": {},
   "outputs": [
    {
     "data": {
      "text/plain": [
       "0      5\n",
       "1     15\n",
       "2     30\n",
       "3     60\n",
       "4    120\n",
       "5    240\n",
       "6    480\n",
       "Name: Time_Delay_in_Minutes, dtype: int64"
      ]
     },
     "execution_count": 4,
     "metadata": {},
     "output_type": "execute_result"
    }
   ],
   "source": [
    "data['Time_Delay_in_Minutes']"
   ]
  },
  {
   "cell_type": "code",
   "execution_count": 5,
   "id": "fc2fb870-f2f8-4c9d-961d-b0d297da2e5b",
   "metadata": {},
   "outputs": [],
   "source": [
    "data['High_score'] = 100"
   ]
  },
  {
   "cell_type": "code",
   "execution_count": 6,
   "id": "89beac32-ed52-45ce-9cfb-9984238632e5",
   "metadata": {},
   "outputs": [
    {
     "name": "stdout",
     "output_type": "stream",
     "text": [
      "   Time_Delay_in_Minutes  LSD_ppm  Avg_Math_Test_Score  High_score\n",
      "0                      5     1.17                78.93         100\n",
      "1                     15     2.97                58.20         100\n",
      "2                     30     3.26                67.47         100\n",
      "3                     60     4.69                37.47         100\n",
      "4                    120     5.83                45.65         100\n",
      "5                    240     6.00                32.92         100\n",
      "6                    480     6.41                29.97         100\n"
     ]
    }
   ],
   "source": [
    "print(data)"
   ]
  },
  {
   "cell_type": "code",
   "execution_count": 7,
   "id": "1b050d6c-376b-4bb6-b8d5-d7bef3bbf1d9",
   "metadata": {},
   "outputs": [],
   "source": [
    "data['High_score'] += data['Avg_Math_Test_Score'] "
   ]
  },
  {
   "cell_type": "code",
   "execution_count": 8,
   "id": "6e6fb6d3-bb05-4858-9b90-d59de179cd3f",
   "metadata": {},
   "outputs": [
    {
     "data": {
      "text/plain": [
       "0    178.93\n",
       "1    158.20\n",
       "2    167.47\n",
       "3    137.47\n",
       "4    145.65\n",
       "5    132.92\n",
       "6    129.97\n",
       "Name: High_score, dtype: float64"
      ]
     },
     "execution_count": 8,
     "metadata": {},
     "output_type": "execute_result"
    }
   ],
   "source": [
    "data['High_score']"
   ]
  },
  {
   "cell_type": "code",
   "execution_count": 9,
   "id": "983cf914-4ec9-4b1b-9fcf-90509b010fa4",
   "metadata": {},
   "outputs": [],
   "source": [
    "data['High_score'] *= data['High_score']"
   ]
  },
  {
   "cell_type": "code",
   "execution_count": 10,
   "id": "b931a8e5-a2ff-49fd-a8c0-76af22c55bf7",
   "metadata": {},
   "outputs": [
    {
     "data": {
      "text/plain": [
       "0    32015.9449\n",
       "1    25027.2400\n",
       "2    28046.2009\n",
       "3    18898.0009\n",
       "4    21213.9225\n",
       "5    17667.7264\n",
       "6    16892.2009\n",
       "Name: High_score, dtype: float64"
      ]
     },
     "execution_count": 10,
     "metadata": {},
     "output_type": "execute_result"
    }
   ],
   "source": [
    "data['High_score']"
   ]
  },
  {
   "cell_type": "code",
   "execution_count": 11,
   "id": "17d9d470-2c50-4b82-8a1d-8582c465e442",
   "metadata": {},
   "outputs": [
    {
     "data": {
      "text/plain": [
       "pandas.core.frame.DataFrame"
      ]
     },
     "execution_count": 11,
     "metadata": {},
     "output_type": "execute_result"
    }
   ],
   "source": [
    "type(data)\n"
   ]
  },
  {
   "cell_type": "code",
   "execution_count": 12,
   "id": "21c1e78c-be44-4226-88e6-b7604baa3848",
   "metadata": {},
   "outputs": [],
   "source": [
    "#columnList = ['LSD_ppm' ,'Avg_Math_Test_Score']"
   ]
  },
  {
   "cell_type": "code",
   "execution_count": 13,
   "id": "91bdfc2e-a1cd-49e5-bd3f-771acf21fdaa",
   "metadata": {},
   "outputs": [],
   "source": [
    "cleanData = data[['LSD_ppm' ,'Avg_Math_Test_Score']]"
   ]
  },
  {
   "cell_type": "code",
   "execution_count": 14,
   "id": "5a746173-1870-4a49-914c-04e1803d3bc8",
   "metadata": {},
   "outputs": [
    {
     "name": "stdout",
     "output_type": "stream",
     "text": [
      "   LSD_ppm  Avg_Math_Test_Score\n",
      "0     1.17                78.93\n",
      "1     2.97                58.20\n",
      "2     3.26                67.47\n",
      "3     4.69                37.47\n",
      "4     5.83                45.65\n",
      "5     6.00                32.92\n",
      "6     6.41                29.97\n"
     ]
    }
   ],
   "source": [
    "print(cleanData)"
   ]
  },
  {
   "cell_type": "code",
   "execution_count": 15,
   "id": "148f4769-4032-4b3c-85f2-09b3041c37c4",
   "metadata": {},
   "outputs": [
    {
     "data": {
      "text/plain": [
       "pandas.core.frame.DataFrame"
      ]
     },
     "execution_count": 15,
     "metadata": {},
     "output_type": "execute_result"
    }
   ],
   "source": [
    "type(cleanData)"
   ]
  },
  {
   "cell_type": "code",
   "execution_count": 16,
   "id": "4c48cc93-dfc4-4178-a0aa-158e6826eec4",
   "metadata": {},
   "outputs": [],
   "source": [
    "y = data['Avg_Math_Test_Score']"
   ]
  },
  {
   "cell_type": "code",
   "execution_count": 17,
   "id": "4c019fe8-67db-4383-b43a-672ea80b3e6a",
   "metadata": {},
   "outputs": [
    {
     "data": {
      "text/plain": [
       "pandas.core.series.Series"
      ]
     },
     "execution_count": 17,
     "metadata": {},
     "output_type": "execute_result"
    }
   ],
   "source": [
    "type(y)"
   ]
  },
  {
   "cell_type": "code",
   "execution_count": 18,
   "id": "2787133b-f51c-4ab1-a9f5-2fc3288a36c8",
   "metadata": {},
   "outputs": [
    {
     "name": "stdout",
     "output_type": "stream",
     "text": [
      "   LSD_ppm\n",
      "0     1.17\n",
      "1     2.97\n",
      "2     3.26\n",
      "3     4.69\n",
      "4     5.83\n",
      "5     6.00\n",
      "6     6.41\n"
     ]
    },
    {
     "data": {
      "text/plain": [
       "pandas.core.frame.DataFrame"
      ]
     },
     "execution_count": 18,
     "metadata": {},
     "output_type": "execute_result"
    }
   ],
   "source": [
    "x = data[['LSD_ppm']]\n",
    "print(x)\n",
    "type(x)"
   ]
  },
  {
   "cell_type": "code",
   "execution_count": 19,
   "id": "e0193978-6796-4efa-b2a0-c442248038bc",
   "metadata": {},
   "outputs": [],
   "source": [
    "data['test_subject'] = 'food'"
   ]
  },
  {
   "cell_type": "code",
   "execution_count": 20,
   "id": "47b71e34-9823-4048-ae82-2ca7b5162d2b",
   "metadata": {},
   "outputs": [
    {
     "name": "stdout",
     "output_type": "stream",
     "text": [
      "   Time_Delay_in_Minutes  LSD_ppm  Avg_Math_Test_Score  High_score  \\\n",
      "0                      5     1.17                78.93  32015.9449   \n",
      "1                     15     2.97                58.20  25027.2400   \n",
      "2                     30     3.26                67.47  28046.2009   \n",
      "3                     60     4.69                37.47  18898.0009   \n",
      "4                    120     5.83                45.65  21213.9225   \n",
      "5                    240     6.00                32.92  17667.7264   \n",
      "6                    480     6.41                29.97  16892.2009   \n",
      "\n",
      "  test_subject  \n",
      "0         food  \n",
      "1         food  \n",
      "2         food  \n",
      "3         food  \n",
      "4         food  \n",
      "5         food  \n",
      "6         food  \n"
     ]
    }
   ],
   "source": [
    "print(data)"
   ]
  },
  {
   "cell_type": "code",
   "execution_count": 21,
   "id": "5d3cebe7-6ab2-416b-a8fe-d75426edbc44",
   "metadata": {},
   "outputs": [],
   "source": [
    "del data['test_subject']"
   ]
  },
  {
   "cell_type": "code",
   "execution_count": 22,
   "id": "55defc4b-f6de-4b71-9196-b535b315c0e8",
   "metadata": {},
   "outputs": [
    {
     "name": "stdout",
     "output_type": "stream",
     "text": [
      "   Time_Delay_in_Minutes  LSD_ppm  Avg_Math_Test_Score  High_score\n",
      "0                      5     1.17                78.93  32015.9449\n",
      "1                     15     2.97                58.20  25027.2400\n",
      "2                     30     3.26                67.47  28046.2009\n",
      "3                     60     4.69                37.47  18898.0009\n",
      "4                    120     5.83                45.65  21213.9225\n",
      "5                    240     6.00                32.92  17667.7264\n",
      "6                    480     6.41                29.97  16892.2009\n"
     ]
    }
   ],
   "source": [
    "print(data)"
   ]
  },
  {
   "cell_type": "code",
   "execution_count": 23,
   "id": "c7ee6cb1-ab14-4c3b-83a3-bb6e8df63bbc",
   "metadata": {},
   "outputs": [],
   "source": [
    "import math"
   ]
  },
  {
   "cell_type": "code",
   "execution_count": 24,
   "id": "361a8d4d-20ed-4100-a951-fe97ef501d09",
   "metadata": {},
   "outputs": [
    {
     "data": {
      "text/plain": [
       "3.141592653589793"
      ]
     },
     "execution_count": 24,
     "metadata": {},
     "output_type": "execute_result"
    }
   ],
   "source": [
    "math.pi"
   ]
  },
  {
   "cell_type": "code",
   "execution_count": 25,
   "id": "05bda2d8-8f09-4340-9b73-139f6785d44b",
   "metadata": {},
   "outputs": [],
   "source": [
    "def get_milk():\n",
    "    print('open door')\n",
    "    print('Walk to the store')\n",
    "    print('Buy milk on the ground floor')\n",
    "    print('Return with milk galore')"
   ]
  },
  {
   "cell_type": "code",
   "execution_count": 26,
   "id": "54134154-7865-4c63-a438-c9e4eb956e6d",
   "metadata": {},
   "outputs": [
    {
     "name": "stdout",
     "output_type": "stream",
     "text": [
      "open door\n",
      "Walk to the store\n",
      "Buy milk on the ground floor\n",
      "Return with milk galore\n"
     ]
    }
   ],
   "source": [
    "get_milk()"
   ]
  },
  {
   "cell_type": "code",
   "execution_count": 27,
   "id": "4c49fa11-60a1-4fca-ba64-7e0cc445edcd",
   "metadata": {},
   "outputs": [],
   "source": [
    "def times(num1 ,num2):\n",
    "    return num1 * num2\n",
    "    "
   ]
  },
  {
   "cell_type": "code",
   "execution_count": 28,
   "id": "50f8a9dd-b65b-4191-8317-7251092caeb2",
   "metadata": {},
   "outputs": [
    {
     "name": "stdout",
     "output_type": "stream",
     "text": [
      "10 * 12  =  120\n"
     ]
    }
   ],
   "source": [
    "num1 = 10\n",
    "num2 = 12\n",
    "test = times(num1,num2)\n",
    "print(f\"{num1} * {num2}  =  {test}\")"
   ]
  },
  {
   "cell_type": "code",
   "execution_count": 29,
   "id": "912b343c-6dbd-4834-b859-18bec037b2cf",
   "metadata": {},
   "outputs": [
    {
     "name": "stdout",
     "output_type": "stream",
     "text": [
      "The Zen of Python, by Tim Peters\n",
      "\n",
      "Beautiful is better than ugly.\n",
      "Explicit is better than implicit.\n",
      "Simple is better than complex.\n",
      "Complex is better than complicated.\n",
      "Flat is better than nested.\n",
      "Sparse is better than dense.\n",
      "Readability counts.\n",
      "Special cases aren't special enough to break the rules.\n",
      "Although practicality beats purity.\n",
      "Errors should never pass silently.\n",
      "Unless explicitly silenced.\n",
      "In the face of ambiguity, refuse the temptation to guess.\n",
      "There should be one-- and preferably only one --obvious way to do it.\n",
      "Although that way may not be obvious at first unless you're Dutch.\n",
      "Now is better than never.\n",
      "Although never is often better than *right* now.\n",
      "If the implementation is hard to explain, it's a bad idea.\n",
      "If the implementation is easy to explain, it may be a good idea.\n",
      "Namespaces are one honking great idea -- let's do more of those!\n"
     ]
    }
   ],
   "source": [
    "import this"
   ]
  },
  {
   "cell_type": "code",
   "execution_count": 30,
   "id": "1e3bb7d7-1341-4e08-b9d4-3d399cd0448d",
   "metadata": {},
   "outputs": [
    {
     "name": "stdout",
     "output_type": "stream",
     "text": [
      "how are don't come home\n"
     ]
    }
   ],
   "source": [
    "print('how are don\\'t come home')"
   ]
  },
  {
   "cell_type": "code",
   "execution_count": 31,
   "id": "8de49577-c602-48c7-9061-a3c384c6873e",
   "metadata": {},
   "outputs": [],
   "source": [
    "import myfood as f"
   ]
  },
  {
   "cell_type": "code",
   "execution_count": 32,
   "id": "e7cb2174-8f63-448b-b880-544248e52592",
   "metadata": {},
   "outputs": [
    {
     "name": "stdout",
     "output_type": "stream",
     "text": [
      "156\n"
     ]
    }
   ],
   "source": [
    "print(f.food())"
   ]
  },
  {
   "cell_type": "code",
   "execution_count": 33,
   "id": "0f4da3eb-3023-441e-8f7b-944e57e58cac",
   "metadata": {},
   "outputs": [
    {
     "name": "stdout",
     "output_type": "stream",
     "text": [
      "7.946068210127573\n"
     ]
    }
   ],
   "source": [
    "print(f.square_root(63.14))"
   ]
  },
  {
   "cell_type": "code",
   "execution_count": 73,
   "id": "8e84f2bd-20a3-4443-99e6-f7c21049a870",
   "metadata": {},
   "outputs": [
    {
     "data": {
      "text/html": [
       "<div>\n",
       "<style scoped>\n",
       "    .dataframe tbody tr th:only-of-type {\n",
       "        vertical-align: middle;\n",
       "    }\n",
       "\n",
       "    .dataframe tbody tr th {\n",
       "        vertical-align: top;\n",
       "    }\n",
       "\n",
       "    .dataframe thead th {\n",
       "        text-align: right;\n",
       "    }\n",
       "</style>\n",
       "<table border=\"1\" class=\"dataframe\">\n",
       "  <thead>\n",
       "    <tr style=\"text-align: right;\">\n",
       "      <th></th>\n",
       "      <th>Time_Delay_in_Minutes</th>\n",
       "      <th>LSD_ppm</th>\n",
       "      <th>Avg_Math_Test_Score</th>\n",
       "    </tr>\n",
       "  </thead>\n",
       "  <tbody>\n",
       "    <tr>\n",
       "      <th>0</th>\n",
       "      <td>5</td>\n",
       "      <td>1.17</td>\n",
       "      <td>78.93</td>\n",
       "    </tr>\n",
       "    <tr>\n",
       "      <th>1</th>\n",
       "      <td>15</td>\n",
       "      <td>2.97</td>\n",
       "      <td>58.20</td>\n",
       "    </tr>\n",
       "    <tr>\n",
       "      <th>2</th>\n",
       "      <td>30</td>\n",
       "      <td>3.26</td>\n",
       "      <td>67.47</td>\n",
       "    </tr>\n",
       "    <tr>\n",
       "      <th>3</th>\n",
       "      <td>60</td>\n",
       "      <td>4.69</td>\n",
       "      <td>37.47</td>\n",
       "    </tr>\n",
       "    <tr>\n",
       "      <th>4</th>\n",
       "      <td>120</td>\n",
       "      <td>5.83</td>\n",
       "      <td>45.65</td>\n",
       "    </tr>\n",
       "    <tr>\n",
       "      <th>5</th>\n",
       "      <td>240</td>\n",
       "      <td>6.00</td>\n",
       "      <td>32.92</td>\n",
       "    </tr>\n",
       "    <tr>\n",
       "      <th>6</th>\n",
       "      <td>480</td>\n",
       "      <td>6.41</td>\n",
       "      <td>29.97</td>\n",
       "    </tr>\n",
       "  </tbody>\n",
       "</table>\n",
       "</div>"
      ],
      "text/plain": [
       "   Time_Delay_in_Minutes  LSD_ppm  Avg_Math_Test_Score\n",
       "0                      5     1.17                78.93\n",
       "1                     15     2.97                58.20\n",
       "2                     30     3.26                67.47\n",
       "3                     60     4.69                37.47\n",
       "4                    120     5.83                45.65\n",
       "5                    240     6.00                32.92\n",
       "6                    480     6.41                29.97"
      ]
     },
     "execution_count": 73,
     "metadata": {},
     "output_type": "execute_result"
    }
   ],
   "source": [
    "data"
   ]
  },
  {
   "cell_type": "code",
   "execution_count": 71,
   "id": "1a2dd0cd-f6bf-4c93-9fbe-32ac1e3aa5af",
   "metadata": {},
   "outputs": [],
   "source": [
    "del data['High_score']"
   ]
  },
  {
   "cell_type": "code",
   "execution_count": 129,
   "id": "a2aa2137-a878-40c6-a8c9-cd39b9b334ed",
   "metadata": {},
   "outputs": [],
   "source": [
    "import matplotlib.pyplot as plt\n",
    "from sklearn.linear_model import LinearRegression as LR"
   ]
  },
  {
   "cell_type": "code",
   "execution_count": 133,
   "id": "158bc465-ae59-4293-97b2-8fe3330e7a28",
   "metadata": {},
   "outputs": [],
   "source": [
    "time = data[['Time_Delay_in_Minutes']]\n",
    "LSD = data[['LSD_ppm']]\n",
    "score = data[['Avg_Math_Test_Score']]"
   ]
  },
  {
   "cell_type": "code",
   "execution_count": 127,
   "id": "eda82521-02fd-4d53-b45f-dcd5fc4d9c73",
   "metadata": {},
   "outputs": [
    {
     "data": {
      "image/png": "[encoded data removed]",
      "text/plain": [
       "<Figure size 640x480 with 1 Axes>"
      ]
     },
     "metadata": {},
     "output_type": "display_data"
    }
   ],
   "source": [
    "%matplotlib inline\n",
    "plt.title('Tissue concentration of LSD over time',fontsize = 17)\n",
    "plt.xlabel('Time in minutes',fontsize = 14)\n",
    "plt.ylabel('Tissue LSD PPM',fontsize = 14)\n",
    "plt.xticks(fontsize=14)\n",
    "plt.yticks(fontsize=14)\n",
    "\n",
    "plt.ylim(1,7)\n",
    "plt.xlim(0,500)\n",
    "\n",
    "plt.style.use('classic')\n",
    "plt.text(x=0,y=-0.5,s ='Wagner rt al. (1968)', fontsize= 11)\n",
    "plt.plot(time,LSD,color='g',linewidth = 3)\n",
    "plt.show()"
   ]
  },
  {
   "cell_type": "code",
   "execution_count": 197,
   "id": "e7a5497e-7f1b-4880-bf48-21bd4848bf7e",
   "metadata": {},
   "outputs": [
    {
     "name": "stdout",
     "output_type": "stream",
     "text": [
      "Theta1: -9.009466415296783\n",
      "Intercept: 89.12387376799306\n",
      "R-square: 0.8778349707775888\n"
     ]
    }
   ],
   "source": [
    "regr = LR()\n",
    "regr.fit(LSD,score)\n",
    "print('Theta1:' ,regr.coef_[0][0])\n",
    "print('Intercept:',regr.intercept_[0])\n",
    "print('R-square:', regr.score(LSD,score))\n",
    "predicated_score = regr.predict(LSD)\n"
   ]
  },
  {
   "cell_type": "code",
   "execution_count": 201,
   "id": "4ffe1491-c061-48d2-aef5-9d5f31a1958e",
   "metadata": {},
   "outputs": [
    {
     "data": {
      "image/png": "[encoded data removed]",
      "text/plain": [
       "<Figure size 640x480 with 1 Axes>"
      ]
     },
     "metadata": {},
     "output_type": "display_data"
    }
   ],
   "source": [
    "%matplotlib inline\n",
    "\n",
    "plt.title('Arithmentic VS LSD-25',fontsize = 14 )\n",
    "plt.xlabel('Tissue LSD PPM',fontsize = 14)\n",
    "plt.ylabel('Performance Score',fontsize = 14)\n",
    "plt.ylim(25,85)\n",
    "plt.xlim(1,6.5)\n",
    "plt.style.use('fivethirtyeight')\n",
    "\n",
    "\n",
    "plt.scatter(LSD,score,color ='b',alpha = 0.7,s = 90)\n",
    "plt.plot(LSD,predicated_score,color = 'red',linewidth = 3)\n",
    "plt.show()"
   ]
  },
  {
   "cell_type": "code",
   "execution_count": null,
   "id": "e9e11624-1a13-49af-abad-1ce2fd82d663",
   "metadata": {},
   "outputs": [],
   "source": []
  }
 ],
 "metadata": {
  "kernelspec": {
   "display_name": "Python [conda env:base] *",
   "language": "python",
   "name": "conda-base-py"
  },
  "language_info": {
   "codemirror_mode": {
    "name": "ipython",
    "version": 3
   },
   "file_extension": ".py",
   "mimetype": "text/x-python",
   "name": "python",
   "nbconvert_exporter": "python",
   "pygments_lexer": "ipython3",
   "version": "3.12.7"
  }
 },
 "nbformat": 4,
 "nbformat_minor": 5
}
